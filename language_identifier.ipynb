{
 "cells": [
  {
   "cell_type": "code",
   "execution_count": 1,
   "metadata": {},
   "outputs": [],
   "source": [
    "import pandas as pd\n",
    "import tensorflow as tf\n",
    "from tensorflow import keras\n",
    "import numpy as np"
   ]
  },
  {
   "cell_type": "code",
   "execution_count": 2,
   "metadata": {},
   "outputs": [
    {
     "name": "stdout",
     "output_type": "stream",
     "text": [
      "                                                Text  language\n",
      "0  klement gottwaldi surnukeha palsameeriti ning ...  Estonian\n",
      "1  sebes joseph pereira thomas  på eng the jesuit...   Swedish\n",
      "2  ถนนเจริญกรุง อักษรโรมัน thanon charoen krung เ...      Thai\n",
      "3  விசாகப்பட்டினம் தமிழ்ச்சங்கத்தை இந்துப் பத்திர...     Tamil\n",
      "4  de spons behoort tot het geslacht haliclona en...     Dutch\n",
      "5  エノが行きがかりでバスに乗ってしまい、気分が悪くなった際に助けるが、今すぐバスを降りたいと運...  Japanese\n",
      "6  tsutinalar i̇ngilizce tsuutina kanadada albert...   Turkish\n",
      "7  müller mox figura centralis circulorum doctoru...     Latin\n",
      "8  برقی بار electric charge تمام زیرجوہری ذرات کی...      Urdu\n",
      "9  シャーリー・フィールドは、サン・ベルナルド・アベニュー沿い市民センターとrtマーティン高校に...  Japanese\n"
     ]
    }
   ],
   "source": [
    "dataset = pd.read_csv('dataset.csv')\n",
    "print(dataset.head(10))"
   ]
  },
  {
   "cell_type": "code",
   "execution_count": 3,
   "metadata": {},
   "outputs": [],
   "source": [
    "# Train / test split\n",
    "breakpoint = int(0.8 * len(dataset))\n",
    "train_x = dataset['Text'][:breakpoint]\n",
    "test_x = dataset['Text'][breakpoint:]\n",
    "\n",
    "# We will separate the ys later\n",
    "ys = dataset['language']\n",
    "\n",
    "# Free up some memory\n",
    "del(dataset)"
   ]
  },
  {
   "cell_type": "code",
   "execution_count": 4,
   "metadata": {},
   "outputs": [],
   "source": [
    "# Some hyperparameters\n",
    "vocab_size = 40000\n",
    "embedding_dim = 64\n",
    "max_length = 150\n",
    "trunc_type ='post'\n",
    "oov_tok = '<OOV>'\n",
    "num_unique_languages = len(set(ys))\n",
    "\n",
    "from tensorflow.keras.preprocessing.text import Tokenizer\n",
    "from tensorflow.keras.preprocessing.sequence import pad_sequences\n",
    "\n",
    "# Create the vocabulary and convert sentences to sequences\n",
    "\n",
    "tokenizer = Tokenizer(num_words = vocab_size, oov_token = oov_tok)\n",
    "tokenizer.fit_on_texts(train_x)\n",
    "word_index = tokenizer.word_index\n",
    "training_sequences = tokenizer.texts_to_sequences(train_x)\n",
    "training_padded = pad_sequences(training_sequences, maxlen = max_length)\n",
    "\n",
    "test_sequences = tokenizer.texts_to_sequences(test_x)\n",
    "test_padded = pad_sequences(test_sequences, maxlen = max_length)\n",
    "\n",
    "# Tokenize labels too\n",
    "\n",
    "label_tokenizer = Tokenizer()\n",
    "label_tokenizer.fit_on_texts(ys)\n",
    "word_index_y = label_tokenizer.word_index\n",
    "label_sequences = label_tokenizer.texts_to_sequences(ys)\n",
    "label_padded = pad_sequences(label_sequences) # probably not necessary, as no language is 2 words long? oh well"
   ]
  },
  {
   "cell_type": "code",
   "execution_count": 14,
   "metadata": {},
   "outputs": [],
   "source": [
    "# Converting to numpy arrays\n",
    "training_padded = np.array(training_padded)\n",
    "test_padded = np.array(test_padded)\n",
    "\n",
    "# Now separate labels\n",
    "training_ys = np.squeeze(np.array(label_padded[:breakpoint]))\n",
    "test_ys = np.squeeze(np.array(label_padded[breakpoint:]))\n",
    "\n",
    "# Problem: label tokenizer set range from 1 to num_unique_classes. Need range form 0 to num_unique_classes-1.\n",
    "training_ys = training_ys - 1\n",
    "test_ys = test_ys - 1\n",
    "# Also fix the word index y dictionary\n",
    "final_y_index = dict()\n",
    "for language, value in word_index_y.items():\n",
    "    final_y_index[language] = value - 1\n",
    "word_index_y = final_y_index\n",
    "del(final_y_index)\n",
    "\n",
    "# one hot encode the ys as well\n",
    "training_ys = tf.keras.utils.to_categorical(training_ys, num_classes=num_unique_languages)\n",
    "test_ys = tf.keras.utils.to_categorical(test_ys, num_classes=num_unique_languages)"
   ]
  },
  {
   "cell_type": "code",
   "execution_count": 15,
   "metadata": {},
   "outputs": [
    {
     "name": "stdout",
     "output_type": "stream",
     "text": [
      "Model: \"sequential_1\"\n",
      "_________________________________________________________________\n",
      "Layer (type)                 Output Shape              Param #   \n",
      "=================================================================\n",
      "embedding_1 (Embedding)      (None, 150, 64)           2560000   \n",
      "_________________________________________________________________\n",
      "global_average_pooling1d_1 ( (None, 64)                0         \n",
      "_________________________________________________________________\n",
      "dense_2 (Dense)              (None, 32)                2080      \n",
      "_________________________________________________________________\n",
      "dense_3 (Dense)              (None, 22)                726       \n",
      "=================================================================\n",
      "Total params: 2,562,806\n",
      "Trainable params: 2,562,806\n",
      "Non-trainable params: 0\n",
      "_________________________________________________________________\n"
     ]
    }
   ],
   "source": [
    "# Let's make the model\n",
    "import tensorflow.keras.layers as layers\n",
    "model = tf.keras.Sequential([\n",
    "    layers.Embedding(vocab_size, embedding_dim, input_length=max_length), # hyperparameters set above\n",
    "    layers.GlobalAveragePooling1D(),\n",
    "    layers.Dense(32, activation='relu'),\n",
    "    layers.Dense(num_unique_languages, activation='sigmoid')\n",
    "])\n",
    "model.compile(loss='categorical_crossentropy', optimizer='adam', metrics=['accuracy'])\n",
    "model.summary()"
   ]
  },
  {
   "cell_type": "code",
   "execution_count": 16,
   "metadata": {
    "scrolled": true
   },
   "outputs": [
    {
     "name": "stdout",
     "output_type": "stream",
     "text": [
      "Epoch 1/25\n",
      "550/550 - 17s - loss: 2.3514 - accuracy: 0.4084 - val_loss: 1.2871 - val_accuracy: 0.7611\n",
      "Epoch 2/25\n",
      "550/550 - 17s - loss: 0.8581 - accuracy: 0.8341 - val_loss: 0.6401 - val_accuracy: 0.8643\n",
      "Epoch 3/25\n",
      "550/550 - 17s - loss: 0.4748 - accuracy: 0.8917 - val_loss: 0.4356 - val_accuracy: 0.9068\n",
      "Epoch 4/25\n",
      "550/550 - 17s - loss: 0.3340 - accuracy: 0.9077 - val_loss: 0.3500 - val_accuracy: 0.9070\n",
      "Epoch 5/25\n",
      "550/550 - 19s - loss: 0.2637 - accuracy: 0.9168 - val_loss: 0.2960 - val_accuracy: 0.9148\n",
      "Epoch 6/25\n",
      "550/550 - 18s - loss: 0.2212 - accuracy: 0.9247 - val_loss: 0.2634 - val_accuracy: 0.9173\n",
      "Epoch 7/25\n",
      "550/550 - 17s - loss: 0.1934 - accuracy: 0.9279 - val_loss: 0.2435 - val_accuracy: 0.9218\n",
      "Epoch 8/25\n",
      "550/550 - 17s - loss: 0.1725 - accuracy: 0.9314 - val_loss: 0.2306 - val_accuracy: 0.9239\n",
      "Epoch 9/25\n",
      "550/550 - 17s - loss: 0.1582 - accuracy: 0.9355 - val_loss: 0.2141 - val_accuracy: 0.9250\n",
      "Epoch 10/25\n",
      "550/550 - 17s - loss: 0.1454 - accuracy: 0.9369 - val_loss: 0.2145 - val_accuracy: 0.9218\n",
      "Epoch 11/25\n",
      "550/550 - 16s - loss: 0.1356 - accuracy: 0.9372 - val_loss: 0.2029 - val_accuracy: 0.9268\n",
      "Epoch 12/25\n",
      "550/550 - 17s - loss: 0.1274 - accuracy: 0.9418 - val_loss: 0.1967 - val_accuracy: 0.9314\n",
      "Epoch 13/25\n",
      "550/550 - 17s - loss: 0.1206 - accuracy: 0.9426 - val_loss: 0.1927 - val_accuracy: 0.9286\n",
      "Epoch 14/25\n",
      "550/550 - 16s - loss: 0.1155 - accuracy: 0.9427 - val_loss: 0.1883 - val_accuracy: 0.9309\n",
      "Epoch 15/25\n",
      "550/550 - 17s - loss: 0.1107 - accuracy: 0.9461 - val_loss: 0.1900 - val_accuracy: 0.9305\n",
      "Epoch 16/25\n",
      "550/550 - 16s - loss: 0.1069 - accuracy: 0.9448 - val_loss: 0.1915 - val_accuracy: 0.9280\n",
      "Epoch 17/25\n",
      "550/550 - 16s - loss: 0.1033 - accuracy: 0.9476 - val_loss: 0.1823 - val_accuracy: 0.9332\n",
      "Epoch 18/25\n",
      "550/550 - 17s - loss: 0.1004 - accuracy: 0.9493 - val_loss: 0.1865 - val_accuracy: 0.9302\n",
      "Epoch 19/25\n",
      "550/550 - 17s - loss: 0.0984 - accuracy: 0.9482 - val_loss: 0.1865 - val_accuracy: 0.9323\n",
      "Epoch 20/25\n",
      "550/550 - 16s - loss: 0.0962 - accuracy: 0.9489 - val_loss: 0.1856 - val_accuracy: 0.9307\n",
      "Epoch 21/25\n",
      "550/550 - 16s - loss: 0.0941 - accuracy: 0.9507 - val_loss: 0.1860 - val_accuracy: 0.9318\n",
      "Epoch 22/25\n",
      "550/550 - 17s - loss: 0.0931 - accuracy: 0.9516 - val_loss: 0.1893 - val_accuracy: 0.9291\n",
      "Epoch 23/25\n",
      "550/550 - 17s - loss: 0.0917 - accuracy: 0.9505 - val_loss: 0.1926 - val_accuracy: 0.9300\n",
      "Epoch 24/25\n",
      "550/550 - 16s - loss: 0.0909 - accuracy: 0.9491 - val_loss: 0.1878 - val_accuracy: 0.9323\n",
      "Epoch 25/25\n",
      "550/550 - 17s - loss: 0.0886 - accuracy: 0.9520 - val_loss: 0.1901 - val_accuracy: 0.9318\n"
     ]
    }
   ],
   "source": [
    "num_epochs = 25\n",
    "history = model.fit(training_padded, training_ys, epochs=num_epochs, validation_data=(test_padded, test_ys), verbose=2)"
   ]
  },
  {
   "cell_type": "code",
   "execution_count": 17,
   "metadata": {},
   "outputs": [
    {
     "data": {
      "image/png": "[encoded data removed]",
      "text/plain": [
       "<Figure size 432x288 with 1 Axes>"
      ]
     },
     "metadata": {
      "needs_background": "light"
     },
     "output_type": "display_data"
    },
    {
     "data": {
      "image/png": "[encoded data removed]",
      "text/plain": [
       "<Figure size 432x288 with 1 Axes>"
      ]
     },
     "metadata": {
      "needs_background": "light"
     },
     "output_type": "display_data"
    }
   ],
   "source": [
    "import matplotlib.pyplot as plt\n",
    "\n",
    "# Some nice plots!\n",
    "\n",
    "def plot_graphs(history, string):\n",
    "  plt.plot(history.history[string])\n",
    "  plt.plot(history.history['val_'+string])\n",
    "  plt.xlabel(\"Epochs\")\n",
    "  plt.ylabel(string)\n",
    "  plt.legend([string, 'val_'+string])\n",
    "  plt.show()\n",
    "  \n",
    "plot_graphs(history, \"accuracy\")\n",
    "plot_graphs(history, \"loss\")"
   ]
  },
  {
   "cell_type": "code",
   "execution_count": 43,
   "metadata": {},
   "outputs": [],
   "source": [
    "# Let's make a predict function\n",
    "def predict(text, tokenizer, index_to_word_y, max_length, trunc_type):\n",
    "    sequences = tokenizer.texts_to_sequences(text)\n",
    "    padded = pad_sequences(sequences, maxlen=max_length, truncating=trunc_type)\n",
    "    predictions = model.predict(padded)\n",
    "    for prediction in predictions:\n",
    "        most_likely_lang = np.argmax(prediction)\n",
    "        print(index_to_word_y[most_likely_lang])"
   ]
  },
  {
   "cell_type": "code",
   "execution_count": 54,
   "metadata": {},
   "outputs": [
    {
     "name": "stdout",
     "output_type": "stream",
     "text": [
      "spanish\n",
      "chinese\n",
      "french\n",
      "thai\n",
      "chinese\n",
      "latin\n"
     ]
    }
   ],
   "source": [
    "sentence = ['Pedro Sánchez Pérez-Castejón (Madrid, 29 de febrero de 1972) es un político español, actual presidente del Gobierno de España.', \n",
    "            'Hallo Hans. Wie geht es heute? Hast du Mittagessen gegessen?', # The model doesn't know German exists!\n",
    "            'Emmanuel Macron, né le 21 décembre 1977 à Amiens, est un haut fonctionnaire, banquier d\\'affaires et homme d\\'État français. Il est président de la République française depuis le 14 mai 2017. ',\n",
    "            'กรุงเทพมหานคร เป็นเมืองหลวงและนครที่มีประชากรมากที่สุดของประเทศไทย เป็นศูนย์กลางการปกครอง การศึกษา การคมนาคมขนส่ง การเงินการธนาคาร การพาณิชย์ การสื่อสาร และความเจริญของประเทศ ตั้งอยู่บนสามเหลี่ยมปากแม่น้ำเจ้าพระยา มีแม่น้ำเจ้าพระยาไหลผ่านและแบ่งเมืองออกเป็น 2 ฝั่ง คือ ฝั่งพระนครและฝั่งธนบุรี กรุงเทพมหานครมีพื้นที่ทั้งหมด 1,568.737 ตร.กม.',\n",
    "            '你好!',\n",
    "            'Gallia  est  omnis  dīvīsa  in  partēs  trēs,  quārum ūnam  incolunt  Belgae,  aliam Aquītānī,  tertiam  quī  ipsōrum  linguā  Celtae,nostrā  Gallī  appellantur.  '\n",
    "           ]\n",
    "index_to_word_y = dict([(value, key) for (key,value) in word_index_y.items()])\n",
    "predict(sentence, tokenizer, index_to_word_y, max_length, trunc_type)"
   ]
  },
  {
   "cell_type": "code",
   "execution_count": null,
   "metadata": {},
   "outputs": [],
   "source": [
    "# I used a Kaggle dataset for this project, which you can find here:\n",
    "# https://www.kaggle.com/zarajamshaid/language-identification-datasst"
   ]
  }
 ],
 "metadata": {
  "kernelspec": {
   "display_name": "Python 3",
   "language": "python",
   "name": "python3"
  },
  "language_info": {
   "codemirror_mode": {
    "name": "ipython",
    "version": 3
   },
   "file_extension": ".py",
   "mimetype": "text/x-python",
   "name": "python",
   "nbconvert_exporter": "python",
   "pygments_lexer": "ipython3",
   "version": "3.8.3"
  }
 },
 "nbformat": 4,
 "nbformat_minor": 4
}
