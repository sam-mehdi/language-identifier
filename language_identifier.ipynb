{
 "cells": [
  {
   "cell_type": "code",
   "execution_count": 1,
   "metadata": {},
   "outputs": [],
   "source": [
    "import pandas as pd\n",
    "import tensorflow as tf\n",
    "from tensorflow import keras\n",
    "import numpy as np"
   ]
  },
  {
   "cell_type": "code",
   "execution_count": 2,
   "metadata": {},
   "outputs": [
    {
     "name": "stdout",
     "output_type": "stream",
     "text": [
      "                                                Text  language\n",
      "0  klement gottwaldi surnukeha palsameeriti ning ...  Estonian\n",
      "1  sebes joseph pereira thomas  på eng the jesuit...   Swedish\n",
      "2  ถนนเจริญกรุง อักษรโรมัน thanon charoen krung เ...      Thai\n",
      "3  விசாகப்பட்டினம் தமிழ்ச்சங்கத்தை இந்துப் பத்திர...     Tamil\n",
      "4  de spons behoort tot het geslacht haliclona en...     Dutch\n",
      "5  エノが行きがかりでバスに乗ってしまい、気分が悪くなった際に助けるが、今すぐバスを降りたいと運...  Japanese\n",
      "6  tsutinalar i̇ngilizce tsuutina kanadada albert...   Turkish\n",
      "7  müller mox figura centralis circulorum doctoru...     Latin\n",
      "8  برقی بار electric charge تمام زیرجوہری ذرات کی...      Urdu\n",
      "9  シャーリー・フィールドは、サン・ベルナルド・アベニュー沿い市民センターとrtマーティン高校に...  Japanese\n"
     ]
    }
   ],
   "source": [
    "dataset = pd.read_csv('dataset.csv')\n",
    "print(dataset.head(10))"
   ]
  },
  {
   "cell_type": "code",
   "execution_count": 3,
   "metadata": {},
   "outputs": [],
   "source": [
    "# Train / test split\n",
    "breakpoint = int(0.8 * len(dataset))\n",
    "train_x = dataset['Text'][:breakpoint]\n",
    "test_x = dataset['Text'][breakpoint:]\n",
    "\n",
    "# We will separate the ys later\n",
    "ys = dataset['language']\n",
    "\n",
    "# Free up some memory\n",
    "del(dataset)"
   ]
  },
  {
   "cell_type": "code",
   "execution_count": 4,
   "metadata": {},
   "outputs": [],
   "source": [
    "# Some hyperparameters\n",
    "vocab_size = 40000\n",
    "embedding_dim = 64\n",
    "max_length = 150\n",
    "trunc_type ='post'\n",
    "oov_tok = '<OOV>'\n",
    "num_unique_languages = len(set(ys))\n",
    "\n",
    "from tensorflow.keras.preprocessing.text import Tokenizer\n",
    "from tensorflow.keras.preprocessing.sequence import pad_sequences\n",
    "\n",
    "# Create the vocabulary and convert sentences to sequences\n",
    "\n",
    "tokenizer = Tokenizer(num_words = vocab_size, oov_token = oov_tok)\n",
    "tokenizer.fit_on_texts(train_x)\n",
    "word_index = tokenizer.word_index\n",
    "training_sequences = tokenizer.texts_to_sequences(train_x)\n",
    "training_padded = pad_sequences(training_sequences, maxlen = max_length)\n",
    "\n",
    "test_sequences = tokenizer.texts_to_sequences(test_x)\n",
    "test_padded = pad_sequences(test_sequences, maxlen = max_length)\n",
    "\n",
    "# Tokenize labels too\n",
    "\n",
    "label_tokenizer = Tokenizer()\n",
    "label_tokenizer.fit_on_texts(ys)\n",
    "word_index_y = label_tokenizer.word_index\n",
    "label_sequences = label_tokenizer.texts_to_sequences(ys)\n",
    "label_padded = pad_sequences(label_sequences) # probably not necessary, as no language is 2 words long? oh well"
   ]
  },
  {
   "cell_type": "code",
   "execution_count": 5,
   "metadata": {},
   "outputs": [],
   "source": [
    "# Converting to numpy arrays\n",
    "training_padded = np.array(training_padded)\n",
    "test_padded = np.array(test_padded)\n",
    "\n",
    "# Now separate labels\n",
    "training_ys = np.squeeze(np.array(label_padded[:breakpoint]))\n",
    "test_ys = np.squeeze(np.array(label_padded[breakpoint:]))\n",
    "\n",
    "# Problem: label tokenizer set range from 1 to num_unique_classes. Need range form 0 to num_unique_classes-1.\n",
    "training_ys = training_ys - 1\n",
    "test_ys = test_ys - 1\n",
    "# Also fix the word index y dictionary\n",
    "final_y_index = dict()\n",
    "for language, value in word_index_y.items():\n",
    "    final_y_index[language] = value - 1\n",
    "word_index_y = final_y_index\n",
    "del(final_y_index)\n",
    "\n",
    "# one hot encode the ys as well\n",
    "training_ys = tf.keras.utils.to_categorical(training_ys, num_classes=num_unique_languages)\n",
    "test_ys = tf.keras.utils.to_categorical(test_ys, num_classes=num_unique_languages)"
   ]
  },
  {
   "cell_type": "code",
   "execution_count": 6,
   "metadata": {},
   "outputs": [
    {
     "name": "stdout",
     "output_type": "stream",
     "text": [
      "Model: \"sequential\"\n",
      "_________________________________________________________________\n",
      "Layer (type)                 Output Shape              Param #   \n",
      "=================================================================\n",
      "embedding (Embedding)        (None, 150, 64)           2560000   \n",
      "_________________________________________________________________\n",
      "global_average_pooling1d (Gl (None, 64)                0         \n",
      "_________________________________________________________________\n",
      "dense (Dense)                (None, 32)                2080      \n",
      "_________________________________________________________________\n",
      "dense_1 (Dense)              (None, 22)                726       \n",
      "=================================================================\n",
      "Total params: 2,562,806\n",
      "Trainable params: 2,562,806\n",
      "Non-trainable params: 0\n",
      "_________________________________________________________________\n"
     ]
    }
   ],
   "source": [
    "# Let's make the model\n",
    "import tensorflow.keras.layers as layers\n",
    "model = tf.keras.Sequential([\n",
    "    layers.Embedding(vocab_size, embedding_dim, input_length=max_length), # hyperparameters set above\n",
    "    layers.GlobalAveragePooling1D(),\n",
    "    layers.Dense(32, activation='relu'),\n",
    "    layers.Dense(num_unique_languages, activation='softmax')\n",
    "])\n",
    "model.compile(loss='categorical_crossentropy', optimizer='adam', metrics=['accuracy'])\n",
    "model.summary()"
   ]
  },
  {
   "cell_type": "code",
   "execution_count": 7,
   "metadata": {
    "scrolled": true
   },
   "outputs": [
    {
     "name": "stdout",
     "output_type": "stream",
     "text": [
      "Epoch 1/25\n",
      "550/550 - 22s - loss: 2.1850 - accuracy: 0.5242 - val_loss: 1.0610 - val_accuracy: 0.8293\n",
      "Epoch 2/25\n",
      "550/550 - 22s - loss: 0.6666 - accuracy: 0.8723 - val_loss: 0.4900 - val_accuracy: 0.8973\n",
      "Epoch 3/25\n",
      "550/550 - 22s - loss: 0.3584 - accuracy: 0.9077 - val_loss: 0.3415 - val_accuracy: 0.9116\n",
      "Epoch 4/25\n",
      "550/550 - 22s - loss: 0.2629 - accuracy: 0.9159 - val_loss: 0.2902 - val_accuracy: 0.9136\n",
      "Epoch 5/25\n",
      "550/550 - 22s - loss: 0.2163 - accuracy: 0.9224 - val_loss: 0.2563 - val_accuracy: 0.9193\n",
      "Epoch 6/25\n",
      "550/550 - 22s - loss: 0.1872 - accuracy: 0.9276 - val_loss: 0.2358 - val_accuracy: 0.9223\n",
      "Epoch 7/25\n",
      "550/550 - 22s - loss: 0.1654 - accuracy: 0.9329 - val_loss: 0.2207 - val_accuracy: 0.9252\n",
      "Epoch 8/25\n",
      "550/550 - 22s - loss: 0.1509 - accuracy: 0.9354 - val_loss: 0.2107 - val_accuracy: 0.9264\n",
      "Epoch 9/25\n",
      "550/550 - 22s - loss: 0.1388 - accuracy: 0.9391 - val_loss: 0.2047 - val_accuracy: 0.9270\n",
      "Epoch 10/25\n",
      "550/550 - 22s - loss: 0.1288 - accuracy: 0.9437 - val_loss: 0.2020 - val_accuracy: 0.9261\n",
      "Epoch 11/25\n",
      "550/550 - 22s - loss: 0.1215 - accuracy: 0.9424 - val_loss: 0.1926 - val_accuracy: 0.9286\n",
      "Epoch 12/25\n",
      "550/550 - 22s - loss: 0.1155 - accuracy: 0.9435 - val_loss: 0.1977 - val_accuracy: 0.9250\n",
      "Epoch 13/25\n",
      "550/550 - 22s - loss: 0.1098 - accuracy: 0.9451 - val_loss: 0.1886 - val_accuracy: 0.9309\n",
      "Epoch 14/25\n",
      "550/550 - 22s - loss: 0.1052 - accuracy: 0.9472 - val_loss: 0.1907 - val_accuracy: 0.9293\n",
      "Epoch 15/25\n",
      "550/550 - 22s - loss: 0.1022 - accuracy: 0.9469 - val_loss: 0.1846 - val_accuracy: 0.9323\n",
      "Epoch 16/25\n",
      "550/550 - 22s - loss: 0.0988 - accuracy: 0.9482 - val_loss: 0.1914 - val_accuracy: 0.9314\n",
      "Epoch 17/25\n",
      "550/550 - 22s - loss: 0.0960 - accuracy: 0.9467 - val_loss: 0.1862 - val_accuracy: 0.9332\n",
      "Epoch 18/25\n",
      "550/550 - 22s - loss: 0.0934 - accuracy: 0.9488 - val_loss: 0.1845 - val_accuracy: 0.9332\n",
      "Epoch 19/25\n",
      "550/550 - 22s - loss: 0.0916 - accuracy: 0.9495 - val_loss: 0.1900 - val_accuracy: 0.9320\n",
      "Epoch 20/25\n",
      "550/550 - 22s - loss: 0.0897 - accuracy: 0.9520 - val_loss: 0.1876 - val_accuracy: 0.9332\n",
      "Epoch 21/25\n",
      "550/550 - 22s - loss: 0.0883 - accuracy: 0.9515 - val_loss: 0.1959 - val_accuracy: 0.9298\n",
      "Epoch 22/25\n",
      "550/550 - 22s - loss: 0.0871 - accuracy: 0.9520 - val_loss: 0.1925 - val_accuracy: 0.9334\n",
      "Epoch 23/25\n",
      "550/550 - 23s - loss: 0.0861 - accuracy: 0.9544 - val_loss: 0.1986 - val_accuracy: 0.9314\n",
      "Epoch 24/25\n",
      "550/550 - 22s - loss: 0.0859 - accuracy: 0.9527 - val_loss: 0.1939 - val_accuracy: 0.9339\n",
      "Epoch 25/25\n",
      "550/550 - 22s - loss: 0.0842 - accuracy: 0.9538 - val_loss: 0.1947 - val_accuracy: 0.9345\n"
     ]
    }
   ],
   "source": [
    "num_epochs = 25\n",
    "history = model.fit(training_padded, training_ys, epochs=num_epochs, validation_data=(test_padded, test_ys), verbose=2)"
   ]
  },
  {
   "cell_type": "code",
   "execution_count": 8,
   "metadata": {},
   "outputs": [
    {
     "data": {
      "image/png": "[encoded data removed]",
      "text/plain": [
       "<Figure size 432x288 with 1 Axes>"
      ]
     },
     "metadata": {
      "needs_background": "light"
     },
     "output_type": "display_data"
    },
    {
     "data": {
      "image/png": "[encoded data removed]",
      "text/plain": [
       "<Figure size 432x288 with 1 Axes>"
      ]
     },
     "metadata": {
      "needs_background": "light"
     },
     "output_type": "display_data"
    }
   ],
   "source": [
    "import matplotlib.pyplot as plt\n",
    "\n",
    "# Some nice plots!\n",
    "\n",
    "def plot_graphs(history, string):\n",
    "  plt.plot(history.history[string])\n",
    "  plt.plot(history.history['val_'+string])\n",
    "  plt.xlabel(\"Epochs\")\n",
    "  plt.ylabel(string)\n",
    "  plt.legend([string, 'val_'+string])\n",
    "  plt.show()\n",
    "  \n",
    "plot_graphs(history, \"accuracy\")\n",
    "plot_graphs(history, \"loss\")"
   ]
  },
  {
   "cell_type": "code",
   "execution_count": 9,
   "metadata": {},
   "outputs": [],
   "source": [
    "# Let's make a predict function\n",
    "def predict(text, tokenizer, index_to_word_y, max_length, trunc_type):\n",
    "    sequences = tokenizer.texts_to_sequences(text)\n",
    "    padded = pad_sequences(sequences, maxlen=max_length, truncating=trunc_type)\n",
    "    predictions = model.predict(padded)\n",
    "    for prediction in predictions:\n",
    "        most_likely_lang = np.argmax(prediction)\n",
    "        print(index_to_word_y[most_likely_lang])"
   ]
  },
  {
   "cell_type": "code",
   "execution_count": 10,
   "metadata": {},
   "outputs": [
    {
     "name": "stdout",
     "output_type": "stream",
     "text": [
      "spanish\n",
      "japanese\n",
      "french\n",
      "thai\n",
      "japanese\n",
      "latin\n"
     ]
    }
   ],
   "source": [
    "sentence = ['Pedro Sánchez Pérez-Castejón (Madrid, 29 de febrero de 1972) es un político español, actual presidente del Gobierno de España.', \n",
    "            'Hallo Hans. Wie geht es heute? Hast du Mittagessen gegessen?', # The model doesn't know German exists!\n",
    "            'Emmanuel Macron, né le 21 décembre 1977 à Amiens, est un haut fonctionnaire, banquier d\\'affaires et homme d\\'État français. Il est président de la République française depuis le 14 mai 2017. ',\n",
    "            'กรุงเทพมหานคร เป็นเมืองหลวงและนครที่มีประชากรมากที่สุดของประเทศไทย เป็นศูนย์กลางการปกครอง การศึกษา การคมนาคมขนส่ง การเงินการธนาคาร การพาณิชย์ การสื่อสาร และความเจริญของประเทศ ตั้งอยู่บนสามเหลี่ยมปากแม่น้ำเจ้าพระยา มีแม่น้ำเจ้าพระยาไหลผ่านและแบ่งเมืองออกเป็น 2 ฝั่ง คือ ฝั่งพระนครและฝั่งธนบุรี กรุงเทพมหานครมีพื้นที่ทั้งหมด 1,568.737 ตร.กม.',\n",
    "            '你好!',\n",
    "            'Gallia  est  omnis  dīvīsa  in  partēs  trēs,  quārum ūnam  incolunt  Belgae,  aliam Aquītānī,  tertiam  quī  ipsōrum  linguā  Celtae,nostrā  Gallī  appellantur.  '\n",
    "           ]\n",
    "index_to_word_y = dict([(value, key) for (key,value) in word_index_y.items()])\n",
    "predict(sentence, tokenizer, index_to_word_y, max_length, trunc_type)"
   ]
  },
  {
   "cell_type": "code",
   "execution_count": 11,
   "metadata": {},
   "outputs": [],
   "source": [
    "# I used a Kaggle dataset for this project, which you can find here:\n",
    "# https://www.kaggle.com/zarajamshaid/language-identification-datasst"
   ]
  }
 ],
 "metadata": {
  "kernelspec": {
   "display_name": "Python 3",
   "language": "python",
   "name": "python3"
  },
  "language_info": {
   "codemirror_mode": {
    "name": "ipython",
    "version": 3
   },
   "file_extension": ".py",
   "mimetype": "text/x-python",
   "name": "python",
   "nbconvert_exporter": "python",
   "pygments_lexer": "ipython3",
   "version": "3.8.3"
  }
 },
 "nbformat": 4,
 "nbformat_minor": 4
}
